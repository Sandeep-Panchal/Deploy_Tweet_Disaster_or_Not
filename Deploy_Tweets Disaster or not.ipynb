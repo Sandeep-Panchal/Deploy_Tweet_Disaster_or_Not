{
 "cells": [
  {
   "cell_type": "code",
   "execution_count": 0,
   "metadata": {
    "colab": {},
    "colab_type": "code",
    "id": "OKqtNrblpTJA"
   },
   "outputs": [],
   "source": []
  },
  {
   "cell_type": "code",
   "execution_count": 0,
   "metadata": {
    "colab": {},
    "colab_type": "code",
    "id": "3DQ4w2kvWULc"
   },
   "outputs": [],
   "source": []
  },
  {
   "cell_type": "code",
   "execution_count": 0,
   "metadata": {
    "colab": {},
    "colab_type": "code",
    "id": "UISo0C-7bw6L"
   },
   "outputs": [],
   "source": []
  },
  {
   "cell_type": "code",
   "execution_count": 0,
   "metadata": {
    "colab": {},
    "colab_type": "code",
    "id": "GBQafsI8bxAj"
   },
   "outputs": [],
   "source": []
  },
  {
   "cell_type": "code",
   "execution_count": 2,
   "metadata": {
    "colab": {},
    "colab_type": "code",
    "id": "UTi8Hguce3C1"
   },
   "outputs": [],
   "source": [
    "import numpy as np\n",
    "import pandas as pd\n",
    "import matplotlib.pyplot as plt\n",
    "%matplotlib inline\n",
    "import seaborn as sns\n",
    "\n",
    "import warnings\n",
    "warnings.filterwarnings('ignore')\n"
   ]
  },
  {
   "cell_type": "code",
   "execution_count": 4,
   "metadata": {
    "colab": {
     "base_uri": "https://localhost:8080/",
     "height": 204
    },
    "colab_type": "code",
    "executionInfo": {
     "elapsed": 5072,
     "status": "ok",
     "timestamp": 1577247836993,
     "user": {
      "displayName": "sandeep panchal",
      "photoUrl": "https://lh3.googleusercontent.com/a-/AAuE7mCDqp8ZcyRAywNG1QL_TT0dbqm_TRCL6CyGzR511w=s64",
      "userId": "16028125481769875260"
     },
     "user_tz": -330
    },
    "id": "KdpZ6xive1Vw",
    "outputId": "09a895df-e3d5-4cf6-ba6f-c12ebbb4b7c9"
   },
   "outputs": [
    {
     "data": {
      "text/html": [
       "<div>\n",
       "<style scoped>\n",
       "    .dataframe tbody tr th:only-of-type {\n",
       "        vertical-align: middle;\n",
       "    }\n",
       "\n",
       "    .dataframe tbody tr th {\n",
       "        vertical-align: top;\n",
       "    }\n",
       "\n",
       "    .dataframe thead th {\n",
       "        text-align: right;\n",
       "    }\n",
       "</style>\n",
       "<table border=\"1\" class=\"dataframe\">\n",
       "  <thead>\n",
       "    <tr style=\"text-align: right;\">\n",
       "      <th></th>\n",
       "      <th>id</th>\n",
       "      <th>keyword</th>\n",
       "      <th>location</th>\n",
       "      <th>text</th>\n",
       "      <th>target</th>\n",
       "    </tr>\n",
       "  </thead>\n",
       "  <tbody>\n",
       "    <tr>\n",
       "      <th>0</th>\n",
       "      <td>1</td>\n",
       "      <td>NaN</td>\n",
       "      <td>NaN</td>\n",
       "      <td>Our Deeds are the Reason of this #earthquake M...</td>\n",
       "      <td>1</td>\n",
       "    </tr>\n",
       "    <tr>\n",
       "      <th>1</th>\n",
       "      <td>4</td>\n",
       "      <td>NaN</td>\n",
       "      <td>NaN</td>\n",
       "      <td>Forest fire near La Ronge Sask. Canada</td>\n",
       "      <td>1</td>\n",
       "    </tr>\n",
       "    <tr>\n",
       "      <th>2</th>\n",
       "      <td>5</td>\n",
       "      <td>NaN</td>\n",
       "      <td>NaN</td>\n",
       "      <td>All residents asked to 'shelter in place' are ...</td>\n",
       "      <td>1</td>\n",
       "    </tr>\n",
       "    <tr>\n",
       "      <th>3</th>\n",
       "      <td>6</td>\n",
       "      <td>NaN</td>\n",
       "      <td>NaN</td>\n",
       "      <td>13,000 people receive #wildfires evacuation or...</td>\n",
       "      <td>1</td>\n",
       "    </tr>\n",
       "    <tr>\n",
       "      <th>4</th>\n",
       "      <td>7</td>\n",
       "      <td>NaN</td>\n",
       "      <td>NaN</td>\n",
       "      <td>Just got sent this photo from Ruby #Alaska as ...</td>\n",
       "      <td>1</td>\n",
       "    </tr>\n",
       "  </tbody>\n",
       "</table>\n",
       "</div>"
      ],
      "text/plain": [
       "   id keyword location                                               text  \\\n",
       "0   1     NaN      NaN  Our Deeds are the Reason of this #earthquake M...   \n",
       "1   4     NaN      NaN             Forest fire near La Ronge Sask. Canada   \n",
       "2   5     NaN      NaN  All residents asked to 'shelter in place' are ...   \n",
       "3   6     NaN      NaN  13,000 people receive #wildfires evacuation or...   \n",
       "4   7     NaN      NaN  Just got sent this photo from Ruby #Alaska as ...   \n",
       "\n",
       "   target  \n",
       "0       1  \n",
       "1       1  \n",
       "2       1  \n",
       "3       1  \n",
       "4       1  "
      ]
     },
     "execution_count": 4,
     "metadata": {},
     "output_type": "execute_result"
    }
   ],
   "source": [
    "df = pd.read_csv('train.csv')\n",
    "\n",
    "df.head()"
   ]
  },
  {
   "cell_type": "code",
   "execution_count": 5,
   "metadata": {
    "colab": {},
    "colab_type": "code",
    "id": "ukir7qhUTYYn"
   },
   "outputs": [],
   "source": [
    "# Importing libraries\n",
    "\n",
    "import re\n",
    "from nltk.stem.snowball import SnowballStemmer\n",
    "from tqdm import tqdm\n",
    "\n",
    "# Create an instance for SnowballStemmer\n",
    "ss = SnowballStemmer('english')"
   ]
  },
  {
   "cell_type": "code",
   "execution_count": 6,
   "metadata": {
    "colab": {},
    "colab_type": "code",
    "id": "flXXDvN9CaNO"
   },
   "outputs": [],
   "source": [
    "# Defining a function to convert short words like couldn't to full word could not\n",
    "def short_form(full_form):\n",
    "    \n",
    "    full_form = full_form.lower()      \n",
    "    \n",
    "    full_form = re.sub(r\"won't\", \"will not\", full_form)\n",
    "    full_form = re.sub(r\"wouldn't\", \"would not\", full_form)\n",
    "    full_form = re.sub(r\"can't\", \"can not\", full_form)\n",
    "    full_form = re.sub(r\"don't\", \"don not\", full_form)\n",
    "    full_form = re.sub(r\"shouldn't\", \"should not\", full_form)\n",
    "    full_form = re.sub(r\"couldn't\", \"could not\", full_form)\n",
    "    full_form = re.sub(r\"\\'re\", \" are\", full_form)\n",
    "    full_form = re.sub(r\"\\'s\", \" is\", full_form)\n",
    "    full_form = re.sub(r\"\\'d\", \" would\", full_form)\n",
    "    full_form = re.sub(r\"\\'ll\", \" will\", full_form)\n",
    "    full_form = re.sub(r\"\\'ve\", \" have\", full_form)\n",
    "    full_form = re.sub(r\"\\'m\", \" am\", full_form)\n",
    "  \n",
    "    return full_form\n",
    "\n",
    "# To remove URL\n",
    "def url(ur):\n",
    "    ur = re.sub(r\"http\\S+\", '', ur)\n",
    "    return ur\n",
    "\n",
    "# Defining a function to remove punctuations, numbers, stopwords and get stem of words\n",
    "def punc(pun):\n",
    "    pun = re.sub('[^a-zA-Z]', ' ', pun)\n",
    "    pun = pun.lower()\n",
    "    #pun = pun.split()\n",
    "    #pun = [ss.stem(sw) for sw in pun if sw not in stopwords.words('english')]\n",
    "    #pun = ' '.join(pun)\n",
    "    return pun"
   ]
  },
  {
   "cell_type": "code",
   "execution_count": 7,
   "metadata": {
    "colab": {
     "base_uri": "https://localhost:8080/",
     "height": 68
    },
    "colab_type": "code",
    "executionInfo": {
     "elapsed": 2532,
     "status": "ok",
     "timestamp": 1577383623244,
     "user": {
      "displayName": "sandeep panchal",
      "photoUrl": "https://lh3.googleusercontent.com/a-/AAuE7mCDqp8ZcyRAywNG1QL_TT0dbqm_TRCL6CyGzR511w=s64",
      "userId": "16028125481769875260"
     },
     "user_tz": -330
    },
    "id": "sIk1WlZ3CcPR",
    "outputId": "eee48a30-0ee5-43c8-ede3-d847a0c2a3f9"
   },
   "outputs": [
    {
     "name": "stdout",
     "output_type": "stream",
     "text": [
      "[nltk_data] Downloading package stopwords to\n",
      "[nltk_data]     C:\\Users\\Sandeep\\AppData\\Roaming\\nltk_data...\n",
      "[nltk_data]   Package stopwords is already up-to-date!\n"
     ]
    },
    {
     "data": {
      "text/plain": [
       "True"
      ]
     },
     "execution_count": 7,
     "metadata": {},
     "output_type": "execute_result"
    }
   ],
   "source": [
    "import nltk\n",
    "nltk.download(\"stopwords\")"
   ]
  },
  {
   "cell_type": "markdown",
   "metadata": {
    "colab_type": "text",
    "id": "kxOpNpLXT3sX"
   },
   "source": [
    "# Working on data"
   ]
  },
  {
   "cell_type": "code",
   "execution_count": 8,
   "metadata": {
    "colab": {},
    "colab_type": "code",
    "id": "SC1I7QuGnCWA"
   },
   "outputs": [],
   "source": [
    "import copy"
   ]
  },
  {
   "cell_type": "code",
   "execution_count": 9,
   "metadata": {
    "colab": {},
    "colab_type": "code",
    "id": "dHJIkU6_nsaV"
   },
   "outputs": [],
   "source": [
    "dfe = copy.deepcopy(df)"
   ]
  },
  {
   "cell_type": "code",
   "execution_count": 10,
   "metadata": {
    "colab": {
     "base_uri": "https://localhost:8080/",
     "height": 34
    },
    "colab_type": "code",
    "executionInfo": {
     "elapsed": 14860,
     "status": "ok",
     "timestamp": 1577388799762,
     "user": {
      "displayName": "sandeep panchal",
      "photoUrl": "https://lh3.googleusercontent.com/a-/AAuE7mCDqp8ZcyRAywNG1QL_TT0dbqm_TRCL6CyGzR511w=s64",
      "userId": "16028125481769875260"
     },
     "user_tz": -330
    },
    "id": "F16rvClnU9fo",
    "outputId": "9e4d0a8d-4c87-47e0-f01c-cfbe47e7147f"
   },
   "outputs": [
    {
     "name": "stderr",
     "output_type": "stream",
     "text": [
      "100%|███████████████████████████████████| 7613/7613 [00:00<00:00, 21443.85it/s]\n"
     ]
    }
   ],
   "source": [
    "from tqdm import tqdm\n",
    "\n",
    "text_train_clean = []\n",
    "\n",
    "for i, s in enumerate(tqdm(dfe['text'].values)):\n",
    "    \n",
    "    u = url(s)\n",
    "    sf = short_form(u)\n",
    "    pu = punc(sf)\n",
    "    text_train_clean.append(pu)"
   ]
  },
  {
   "cell_type": "code",
   "execution_count": 11,
   "metadata": {
    "colab": {
     "base_uri": "https://localhost:8080/",
     "height": 68
    },
    "colab_type": "code",
    "executionInfo": {
     "elapsed": 14347,
     "status": "ok",
     "timestamp": 1577388799765,
     "user": {
      "displayName": "sandeep panchal",
      "photoUrl": "https://lh3.googleusercontent.com/a-/AAuE7mCDqp8ZcyRAywNG1QL_TT0dbqm_TRCL6CyGzR511w=s64",
      "userId": "16028125481769875260"
     },
     "user_tz": -330
    },
    "id": "e0Vr8IWWI0YC",
    "outputId": "dda69fb0-bdd8-4d59-f4b4-ae3525e9b30b"
   },
   "outputs": [
    {
     "name": "stdout",
     "output_type": "stream",
     "text": [
      "\n",
      "-> Preprocessed text data:\n",
      "\n"
     ]
    }
   ],
   "source": [
    "print('\\n-> Preprocessed text data:\\n')\n",
    "\n",
    "dfe['text'] = text_train_clean"
   ]
  },
  {
   "cell_type": "code",
   "execution_count": 12,
   "metadata": {
    "colab": {},
    "colab_type": "code",
    "id": "1A6vgWutUgb2"
   },
   "outputs": [],
   "source": [
    "dfc = copy.deepcopy(dfe)\n",
    "\n",
    "# dfc.to_csv('train_clean.csv', index = False)"
   ]
  },
  {
   "cell_type": "code",
   "execution_count": 14,
   "metadata": {
    "colab": {},
    "colab_type": "code",
    "id": "4992Iwg0nn6i"
   },
   "outputs": [],
   "source": [
    "# Import CountVectorizer library\n",
    "from sklearn.feature_extraction.text import CountVectorizer\n",
    "\n",
    "# Create an instance\n",
    "# Bi-gram\n",
    "cv_t = CountVectorizer(ngram_range = (1, 2))\n",
    "\n",
    "# Fit and transform train data\n",
    "tr_t_b = cv_t.fit_transform(dfe['text'])"
   ]
  },
  {
   "cell_type": "code",
   "execution_count": 15,
   "metadata": {
    "colab": {},
    "colab_type": "code",
    "id": "4m4axVZ8LSIG"
   },
   "outputs": [],
   "source": [
    "# Import normalize library\n",
    "from sklearn.preprocessing import normalize\n",
    "\n",
    "# Normalize train data\n",
    "tr_t_n = normalize(tr_t_b)"
   ]
  },
  {
   "cell_type": "code",
   "execution_count": 18,
   "metadata": {
    "colab": {},
    "colab_type": "code",
    "id": "U3CuFsb2M-rh"
   },
   "outputs": [],
   "source": [
    "x_tr_e = tr_t_n\n",
    "\n",
    "y = dfe['target']"
   ]
  },
  {
   "cell_type": "markdown",
   "metadata": {
    "colab_type": "text",
    "id": "VOfOZ_weTLsx"
   },
   "source": [
    "# Naive Bayes"
   ]
  },
  {
   "cell_type": "code",
   "execution_count": 21,
   "metadata": {
    "colab": {
     "base_uri": "https://localhost:8080/",
     "height": 153
    },
    "colab_type": "code",
    "executionInfo": {
     "elapsed": 1128,
     "status": "ok",
     "timestamp": 1577388873703,
     "user": {
      "displayName": "sandeep panchal",
      "photoUrl": "https://lh3.googleusercontent.com/a-/AAuE7mCDqp8ZcyRAywNG1QL_TT0dbqm_TRCL6CyGzR511w=s64",
      "userId": "16028125481769875260"
     },
     "user_tz": -330
    },
    "id": "ZAaHcCd2TKab",
    "outputId": "b7dca3cf-b2e4-4ed9-943f-cd98d588d3fc"
   },
   "outputs": [
    {
     "data": {
      "text/plain": [
       "GridSearchCV(cv=4, error_score='raise-deprecating',\n",
       "             estimator=MultinomialNB(alpha=1.0, class_prior=None,\n",
       "                                     fit_prior=True),\n",
       "             iid='warn', n_jobs=None,\n",
       "             param_grid={'alpha': [1e-05, 0.0001, 0.001, 0.01, 0.1, 0.15, 10,\n",
       "                                   100, 1000, 10000]},\n",
       "             pre_dispatch='2*n_jobs', refit=True, return_train_score=False,\n",
       "             scoring='accuracy', verbose=0)"
      ]
     },
     "execution_count": 21,
     "metadata": {},
     "output_type": "execute_result"
    }
   ],
   "source": [
    "from sklearn.naive_bayes import MultinomialNB\n",
    "from sklearn.model_selection import GridSearchCV\n",
    "\n",
    "nbe = MultinomialNB()\n",
    "\n",
    "param = {'alpha': [0.00001, 0.0001, 0.001, 0.01, 0.1, 0.15, 10, 100, 1000, 10000]}\n",
    "\n",
    "\n",
    "clf_nbe = GridSearchCV(estimator = nbe, param_grid = param, scoring = 'accuracy', cv = 4)\n",
    "\n",
    "clf_nbe.fit(x_tr_e, y)"
   ]
  },
  {
   "cell_type": "code",
   "execution_count": 22,
   "metadata": {
    "colab": {
     "base_uri": "https://localhost:8080/",
     "height": 136
    },
    "colab_type": "code",
    "executionInfo": {
     "elapsed": 848,
     "status": "ok",
     "timestamp": 1577388873705,
     "user": {
      "displayName": "sandeep panchal",
      "photoUrl": "https://lh3.googleusercontent.com/a-/AAuE7mCDqp8ZcyRAywNG1QL_TT0dbqm_TRCL6CyGzR511w=s64",
      "userId": "16028125481769875260"
     },
     "user_tz": -330
    },
    "id": "K2sQmnoMTOHd",
    "outputId": "fb998894-75b7-4d51-d193-4446418b9a6c"
   },
   "outputs": [
    {
     "name": "stdout",
     "output_type": "stream",
     "text": [
      "\n",
      "-> Best score: 0.7426769998686458 \n",
      "\n",
      "************************************************** \n",
      "\n",
      "\n",
      "-> Best estimators: MultinomialNB(alpha=0.15, class_prior=None, fit_prior=True)\n"
     ]
    }
   ],
   "source": [
    "print('\\n-> Best score:', clf_nbe.best_score_, '\\n')\n",
    "print('*'*50, '\\n')\n",
    "\n",
    "print('\\n-> Best estimators:', clf_nbe.best_estimator_)"
   ]
  },
  {
   "cell_type": "code",
   "execution_count": 23,
   "metadata": {
    "colab": {},
    "colab_type": "code",
    "id": "oj4Of9VudmXC"
   },
   "outputs": [],
   "source": [
    "import pickle\n",
    "\n",
    "cv = pickle.dump(cv_t, open('twt_transform.pkl', 'wb'))\n",
    "\n",
    "clf = pickle.dump(clf_nbe, open('twt_nb_model.pkl', 'wb'))"
   ]
  },
  {
   "cell_type": "code",
   "execution_count": null,
   "metadata": {},
   "outputs": [],
   "source": []
  }
 ],
 "metadata": {
  "accelerator": "GPU",
  "colab": {
   "collapsed_sections": [],
   "name": "Tweets Disaster or not.ipynb",
   "provenance": []
  },
  "kernelspec": {
   "display_name": "Python 3",
   "language": "python",
   "name": "python3"
  },
  "language_info": {
   "codemirror_mode": {
    "name": "ipython",
    "version": 3
   },
   "file_extension": ".py",
   "mimetype": "text/x-python",
   "name": "python",
   "nbconvert_exporter": "python",
   "pygments_lexer": "ipython3",
   "version": "3.7.0"
  }
 },
 "nbformat": 4,
 "nbformat_minor": 1
}
