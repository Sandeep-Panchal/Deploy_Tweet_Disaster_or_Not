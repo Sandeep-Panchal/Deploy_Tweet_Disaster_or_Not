{
 "cells": [
  {
   "cell_type": "code",
   "execution_count": null,
   "metadata": {},
   "outputs": [
    {
     "name": "stdout",
     "output_type": "stream",
     "text": [
      " * Serving Flask app \"__main__\" (lazy loading)\n",
      " * Environment: production\n",
      "   WARNING: Do not use the development server in a production environment.\n",
      "   Use a production WSGI server instead.\n",
      " * Debug mode: off\n"
     ]
    },
    {
     "name": "stderr",
     "output_type": "stream",
     "text": [
      " * Running on http://127.0.0.1:5000/ (Press CTRL+C to quit)\n",
      "127.0.0.1 - - [17/Jan/2020 11:06:48] \"GET / HTTP/1.1\" 200 -\n",
      "127.0.0.1 - - [17/Jan/2020 11:06:53] \"POST /Predict HTTP/1.1\" 200 -\n",
      "127.0.0.1 - - [17/Jan/2020 11:07:01] \"POST /Predict HTTP/1.1\" 200 -\n",
      "127.0.0.1 - - [17/Jan/2020 11:07:07] \"POST /Predict HTTP/1.1\" 200 -\n",
      "127.0.0.1 - - [17/Jan/2020 11:07:22] \"POST /Predict HTTP/1.1\" 200 -\n",
      "127.0.0.1 - - [17/Jan/2020 11:07:27] \"POST /Predict HTTP/1.1\" 200 -\n",
      "127.0.0.1 - - [17/Jan/2020 11:07:32] \"POST /Predict HTTP/1.1\" 200 -\n"
     ]
    }
   ],
   "source": [
    "from flask import Flask, render_template, request, url_for\n",
    "import pickle\n",
    "\n",
    "# Loading files\n",
    "clf = pickle.load(open('twt_nb_model.pkl', 'rb'))\n",
    "cv = pickle.load(open('twt_transform.pkl', 'rb'))\n",
    "\n",
    "# Initiate flask\n",
    "app = Flask(__name__)\n",
    "\n",
    "# Route for home page\n",
    "@app.route('/')\n",
    "def home():\n",
    "    return render_template('Tweets_Predict_Page.html')\n",
    "    \n",
    "\n",
    "# Route for predictor page\n",
    "@app.route('/Predict', methods = ['POST'])\n",
    "def Predict():\n",
    "    \n",
    "    if request.method == 'POST':\n",
    "        tweet = request.form['message']\n",
    "        data = [tweet]\n",
    "        vect = cv.transform(data).toarray()\n",
    "        my_prediction = clf.predict(vect)\n",
    "    return render_template('Tweets_Predict_Page.html', prediction = my_prediction)\n",
    "\n",
    "\n",
    "\n",
    "if __name__ == '__main__':\n",
    "    app.run(debug = False)"
   ]
  },
  {
   "cell_type": "code",
   "execution_count": null,
   "metadata": {},
   "outputs": [],
   "source": []
  }
 ],
 "metadata": {
  "accelerator": "GPU",
  "colab": {
   "collapsed_sections": [],
   "name": "LSTM_Tweets Disaster or not_kaggle.ipynb",
   "provenance": []
  },
  "kernelspec": {
   "display_name": "Python 3",
   "language": "python",
   "name": "python3"
  },
  "language_info": {
   "codemirror_mode": {
    "name": "ipython",
    "version": 3
   },
   "file_extension": ".py",
   "mimetype": "text/x-python",
   "name": "python",
   "nbconvert_exporter": "python",
   "pygments_lexer": "ipython3",
   "version": "3.7.0"
  }
 },
 "nbformat": 4,
 "nbformat_minor": 1
}
